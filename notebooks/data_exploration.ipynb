{
 "cells": [
  {
   "cell_type": "markdown",
   "id": "97c9d9fd",
   "metadata": {},
   "source": [
    "# Data Exploration"
   ]
  },
  {
   "cell_type": "markdown",
   "id": "7d68cad3",
   "metadata": {},
   "source": [
    "## Setup Instructions"
   ]
  },
  {
   "cell_type": "code",
   "execution_count": 1,
   "id": "cdc9b24b",
   "metadata": {},
   "outputs": [
    {
     "name": "stdout",
     "output_type": "stream",
     "text": [
      "Requirement already satisfied: pandas in /Users/htdvu/miniconda3/envs/mylab-hdac6/lib/python3.10/site-packages (from -r ../requirements.txt (line 1)) (2.3.2)\n",
      "Requirement already satisfied: numpy in /Users/htdvu/miniconda3/envs/mylab-hdac6/lib/python3.10/site-packages (from -r ../requirements.txt (line 2)) (2.2.6)\n",
      "Requirement already satisfied: matplotlib in /Users/htdvu/miniconda3/envs/mylab-hdac6/lib/python3.10/site-packages (from -r ../requirements.txt (line 3)) (3.10.6)\n",
      "Requirement already satisfied: scikit-learn in /Users/htdvu/miniconda3/envs/mylab-hdac6/lib/python3.10/site-packages (from -r ../requirements.txt (line 4)) (1.7.2)\n",
      "Requirement already satisfied: seaborn in /Users/htdvu/miniconda3/envs/mylab-hdac6/lib/python3.10/site-packages (from -r ../requirements.txt (line 5)) (0.13.2)\n",
      "Requirement already satisfied: rdkit in /Users/htdvu/miniconda3/envs/mylab-hdac6/lib/python3.10/site-packages (from -r ../requirements.txt (line 6)) (2025.3.6)\n",
      "Requirement already satisfied: biopython in /Users/htdvu/miniconda3/envs/mylab-hdac6/lib/python3.10/site-packages (from -r ../requirements.txt (line 7)) (1.85)\n",
      "Requirement already satisfied: python-dateutil>=2.8.2 in /Users/htdvu/miniconda3/envs/mylab-hdac6/lib/python3.10/site-packages (from pandas->-r ../requirements.txt (line 1)) (2.9.0.post0)\n",
      "Requirement already satisfied: pytz>=2020.1 in /Users/htdvu/miniconda3/envs/mylab-hdac6/lib/python3.10/site-packages (from pandas->-r ../requirements.txt (line 1)) (2025.2)\n",
      "Requirement already satisfied: tzdata>=2022.7 in /Users/htdvu/miniconda3/envs/mylab-hdac6/lib/python3.10/site-packages (from pandas->-r ../requirements.txt (line 1)) (2025.2)\n",
      "Requirement already satisfied: contourpy>=1.0.1 in /Users/htdvu/miniconda3/envs/mylab-hdac6/lib/python3.10/site-packages (from matplotlib->-r ../requirements.txt (line 3)) (1.3.2)\n",
      "Requirement already satisfied: cycler>=0.10 in /Users/htdvu/miniconda3/envs/mylab-hdac6/lib/python3.10/site-packages (from matplotlib->-r ../requirements.txt (line 3)) (0.12.1)\n",
      "Requirement already satisfied: fonttools>=4.22.0 in /Users/htdvu/miniconda3/envs/mylab-hdac6/lib/python3.10/site-packages (from matplotlib->-r ../requirements.txt (line 3)) (4.60.0)\n",
      "Requirement already satisfied: kiwisolver>=1.3.1 in /Users/htdvu/miniconda3/envs/mylab-hdac6/lib/python3.10/site-packages (from matplotlib->-r ../requirements.txt (line 3)) (1.4.9)\n",
      "Requirement already satisfied: packaging>=20.0 in /Users/htdvu/miniconda3/envs/mylab-hdac6/lib/python3.10/site-packages (from matplotlib->-r ../requirements.txt (line 3)) (25.0)\n",
      "Requirement already satisfied: pillow>=8 in /Users/htdvu/miniconda3/envs/mylab-hdac6/lib/python3.10/site-packages (from matplotlib->-r ../requirements.txt (line 3)) (11.3.0)\n",
      "Requirement already satisfied: pyparsing>=2.3.1 in /Users/htdvu/miniconda3/envs/mylab-hdac6/lib/python3.10/site-packages (from matplotlib->-r ../requirements.txt (line 3)) (3.2.5)\n",
      "Requirement already satisfied: scipy>=1.8.0 in /Users/htdvu/miniconda3/envs/mylab-hdac6/lib/python3.10/site-packages (from scikit-learn->-r ../requirements.txt (line 4)) (1.15.3)\n",
      "Requirement already satisfied: joblib>=1.2.0 in /Users/htdvu/miniconda3/envs/mylab-hdac6/lib/python3.10/site-packages (from scikit-learn->-r ../requirements.txt (line 4)) (1.5.2)\n",
      "Requirement already satisfied: threadpoolctl>=3.1.0 in /Users/htdvu/miniconda3/envs/mylab-hdac6/lib/python3.10/site-packages (from scikit-learn->-r ../requirements.txt (line 4)) (3.6.0)\n",
      "Requirement already satisfied: six>=1.5 in /Users/htdvu/miniconda3/envs/mylab-hdac6/lib/python3.10/site-packages (from python-dateutil>=2.8.2->pandas->-r ../requirements.txt (line 1)) (1.17.0)\n"
     ]
    }
   ],
   "source": [
    "!pip install -r ../requirements.txt"
   ]
  },
  {
   "cell_type": "markdown",
   "id": "8ec14692",
   "metadata": {},
   "source": [
    "Import necessary libraries."
   ]
  },
  {
   "cell_type": "code",
   "execution_count": 2,
   "id": "e09ce358",
   "metadata": {},
   "outputs": [],
   "source": [
    "import numpy as np\n",
    "import pandas as pd\n",
    "import matplotlib.pyplot as plt\n",
    "import seaborn as sns\n",
    "sns.set(style=\"whitegrid\")\n",
    "import os"
   ]
  },
  {
   "cell_type": "code",
   "execution_count": 3,
   "id": "b1956a9e",
   "metadata": {},
   "outputs": [
    {
     "name": "stdout",
     "output_type": "stream",
     "text": [
      "Current working directory: /Users/htdvu/Desktop/myLab/myLab-HDAC6-results/eda\n"
     ]
    }
   ],
   "source": [
    "# Get working directory\n",
    "cwd = os.getcwd()\n",
    "print(f\"Current working directory: {cwd}\")"
   ]
  },
  {
   "cell_type": "markdown",
   "id": "69f31cc2",
   "metadata": {},
   "source": [
    "Import working dataset and display first few rows."
   ]
  },
  {
   "cell_type": "code",
   "execution_count": 5,
   "id": "a07c83b4",
   "metadata": {},
   "outputs": [
    {
     "data": {
      "application/vnd.microsoft.datawrangler.viewer.v0+json": {
       "columns": [
        {
         "name": "index",
         "rawType": "int64",
         "type": "integer"
        },
        {
         "name": "ID",
         "rawType": "object",
         "type": "string"
        },
        {
         "name": "SMILES",
         "rawType": "object",
         "type": "string"
        },
        {
         "name": "acqualifier",
         "rawType": "object",
         "type": "unknown"
        },
        {
         "name": "IC50 value(nM)",
         "rawType": "float64",
         "type": "float"
        },
        {
         "name": "doi",
         "rawType": "object",
         "type": "unknown"
        },
        {
         "name": "inchikey",
         "rawType": "object",
         "type": "string"
        },
        {
         "name": "Label",
         "rawType": "object",
         "type": "string"
        }
       ],
       "ref": "288c7642-cf0b-4330-a77b-0c3a1633cb78",
       "rows": [
        [
         "0",
         "44416433",
         "CN1CC2=CC(=C(C=C2OC3=C1C(=NC=N3)OC4=CC(=CC=C4)Br)OC)OC",
         "=",
         "1200.0",
         "10.1016/j.bmcl.2006.07.031",
         "AABTVDZTFBSBKN-UHFFFAOYSA-N",
         "inactive"
        ],
        [
         "1",
         "24905296",
         "CCOC1=C(C=C(C=C1)C2=NN(C3=NC=NC(=C23)N)C4CCCC4)OC",
         "=",
         "1400.0",
         "10.1038/nchembio.117",
         "AAHKGRWRYBCWDL-UHFFFAOYSA-N",
         "inactive"
        ],
        [
         "2",
         "CHEMBL553",
         "C#Cc1cccc(Nc2ncnc3cc(OCCOC)c(OCCOC)cc23)c1",
         "=",
         "20.0",
         "10.1016/j.bmc.2009.11.037",
         "AAKJLRGGTJKAMG-UHFFFAOYSA-N",
         "active"
        ],
        [
         "3",
         "CHEMBL595757",
         "COc1ccccc1C(Cc1coc2nc(N)nc(N)c12)C(C)C",
         "=",
         "18200.0",
         "10.1016/j.bmc.2009.08.044",
         "AALMZTNNZVHOAS-UHFFFAOYSA-N",
         "inactive"
        ],
        [
         "4",
         "CHEMBL3741026",
         "C#Cc1cccc(Nc2ncnc3cc(OCCOC(=O)C(C)c4ccc(CC(C)C)cc4)c(OCCOC)cc23)c1",
         "=",
         "9.0",
         "10.1021/acsmedchemlett.5b00286",
         "AALSIMHTWOFTTB-UHFFFAOYSA-N",
         "active"
        ],
        [
         "5",
         "CHEMBL3758758",
         "COC(=O)c1ccc(OC)c(-c2cc3c(N[C@H](C)c4ccccc4)ncnc3s2)c1",
         "=",
         "7.0",
         "10.1016/j.ejmech.2015.11.012",
         "AARBVSHAOOSSTN-CQSZACIVSA-N",
         "active"
        ],
        [
         "6",
         "CHEMBL354033",
         "Nc1ncnc2c1c(-c1ccc(O)cc1)cn2C1CCNC1",
         "=",
         "2670.0",
         "10.1016/s0960-894x(01)00080-4",
         "AATOPLAJLQECRD-UHFFFAOYSA-N",
         "inactive"
        ],
        [
         "7",
         "57400361",
         "COC1=C(C=C2C(=C1)C(=C(C=N2)C(=O)O)NC3=CC(=C(C=C3)F)Cl)OC",
         "=",
         "9284.0",
         "10.1016/j.ejmech.2012.01.021",
         "AAVGHUCVRHUVEM-UHFFFAOYSA-N",
         "inactive"
        ],
        [
         "8",
         "46842883",
         "CC1=CC=C(C=C1)C2CC(=NN2C(=S)N)C3=CC(=C(C=C3)C)C",
         "=",
         "340.0",
         "10.1016/j.bmc.2010.05.034",
         "AAXJTXUUVCETME-UHFFFAOYSA-N",
         "inactive"
        ],
        [
         "9",
         "126717966",
         "C1CCC(C1)N2C3=NC=NC(=C3C(=N2)C4=CC=C(C=C4)CNC(=O)C5=CC6=CC=CC=C6N5)N",
         null,
         "5500.0",
         null,
         "ABAPXGKEVNECFX-UHFFFAOYSA-N",
         "inactive"
        ]
       ],
       "shape": {
        "columns": 7,
        "rows": 10
       }
      },
      "text/html": [
       "<div>\n",
       "<style scoped>\n",
       "    .dataframe tbody tr th:only-of-type {\n",
       "        vertical-align: middle;\n",
       "    }\n",
       "\n",
       "    .dataframe tbody tr th {\n",
       "        vertical-align: top;\n",
       "    }\n",
       "\n",
       "    .dataframe thead th {\n",
       "        text-align: right;\n",
       "    }\n",
       "</style>\n",
       "<table border=\"1\" class=\"dataframe\">\n",
       "  <thead>\n",
       "    <tr style=\"text-align: right;\">\n",
       "      <th></th>\n",
       "      <th>ID</th>\n",
       "      <th>SMILES</th>\n",
       "      <th>acqualifier</th>\n",
       "      <th>IC50 value(nM)</th>\n",
       "      <th>doi</th>\n",
       "      <th>inchikey</th>\n",
       "      <th>Label</th>\n",
       "    </tr>\n",
       "  </thead>\n",
       "  <tbody>\n",
       "    <tr>\n",
       "      <th>0</th>\n",
       "      <td>44416433</td>\n",
       "      <td>CN1CC2=CC(=C(C=C2OC3=C1C(=NC=N3)OC4=CC(=CC=C4)...</td>\n",
       "      <td>=</td>\n",
       "      <td>1200.0</td>\n",
       "      <td>10.1016/j.bmcl.2006.07.031</td>\n",
       "      <td>AABTVDZTFBSBKN-UHFFFAOYSA-N</td>\n",
       "      <td>inactive</td>\n",
       "    </tr>\n",
       "    <tr>\n",
       "      <th>1</th>\n",
       "      <td>24905296</td>\n",
       "      <td>CCOC1=C(C=C(C=C1)C2=NN(C3=NC=NC(=C23)N)C4CCCC4)OC</td>\n",
       "      <td>=</td>\n",
       "      <td>1400.0</td>\n",
       "      <td>10.1038/nchembio.117</td>\n",
       "      <td>AAHKGRWRYBCWDL-UHFFFAOYSA-N</td>\n",
       "      <td>inactive</td>\n",
       "    </tr>\n",
       "    <tr>\n",
       "      <th>2</th>\n",
       "      <td>CHEMBL553</td>\n",
       "      <td>C#Cc1cccc(Nc2ncnc3cc(OCCOC)c(OCCOC)cc23)c1</td>\n",
       "      <td>=</td>\n",
       "      <td>20.0</td>\n",
       "      <td>10.1016/j.bmc.2009.11.037</td>\n",
       "      <td>AAKJLRGGTJKAMG-UHFFFAOYSA-N</td>\n",
       "      <td>active</td>\n",
       "    </tr>\n",
       "    <tr>\n",
       "      <th>3</th>\n",
       "      <td>CHEMBL595757</td>\n",
       "      <td>COc1ccccc1C(Cc1coc2nc(N)nc(N)c12)C(C)C</td>\n",
       "      <td>=</td>\n",
       "      <td>18200.0</td>\n",
       "      <td>10.1016/j.bmc.2009.08.044</td>\n",
       "      <td>AALMZTNNZVHOAS-UHFFFAOYSA-N</td>\n",
       "      <td>inactive</td>\n",
       "    </tr>\n",
       "    <tr>\n",
       "      <th>4</th>\n",
       "      <td>CHEMBL3741026</td>\n",
       "      <td>C#Cc1cccc(Nc2ncnc3cc(OCCOC(=O)C(C)c4ccc(CC(C)C...</td>\n",
       "      <td>=</td>\n",
       "      <td>9.0</td>\n",
       "      <td>10.1021/acsmedchemlett.5b00286</td>\n",
       "      <td>AALSIMHTWOFTTB-UHFFFAOYSA-N</td>\n",
       "      <td>active</td>\n",
       "    </tr>\n",
       "    <tr>\n",
       "      <th>5</th>\n",
       "      <td>CHEMBL3758758</td>\n",
       "      <td>COC(=O)c1ccc(OC)c(-c2cc3c(N[C@H](C)c4ccccc4)nc...</td>\n",
       "      <td>=</td>\n",
       "      <td>7.0</td>\n",
       "      <td>10.1016/j.ejmech.2015.11.012</td>\n",
       "      <td>AARBVSHAOOSSTN-CQSZACIVSA-N</td>\n",
       "      <td>active</td>\n",
       "    </tr>\n",
       "    <tr>\n",
       "      <th>6</th>\n",
       "      <td>CHEMBL354033</td>\n",
       "      <td>Nc1ncnc2c1c(-c1ccc(O)cc1)cn2C1CCNC1</td>\n",
       "      <td>=</td>\n",
       "      <td>2670.0</td>\n",
       "      <td>10.1016/s0960-894x(01)00080-4</td>\n",
       "      <td>AATOPLAJLQECRD-UHFFFAOYSA-N</td>\n",
       "      <td>inactive</td>\n",
       "    </tr>\n",
       "    <tr>\n",
       "      <th>7</th>\n",
       "      <td>57400361</td>\n",
       "      <td>COC1=C(C=C2C(=C1)C(=C(C=N2)C(=O)O)NC3=CC(=C(C=...</td>\n",
       "      <td>=</td>\n",
       "      <td>9284.0</td>\n",
       "      <td>10.1016/j.ejmech.2012.01.021</td>\n",
       "      <td>AAVGHUCVRHUVEM-UHFFFAOYSA-N</td>\n",
       "      <td>inactive</td>\n",
       "    </tr>\n",
       "    <tr>\n",
       "      <th>8</th>\n",
       "      <td>46842883</td>\n",
       "      <td>CC1=CC=C(C=C1)C2CC(=NN2C(=S)N)C3=CC(=C(C=C3)C)C</td>\n",
       "      <td>=</td>\n",
       "      <td>340.0</td>\n",
       "      <td>10.1016/j.bmc.2010.05.034</td>\n",
       "      <td>AAXJTXUUVCETME-UHFFFAOYSA-N</td>\n",
       "      <td>inactive</td>\n",
       "    </tr>\n",
       "    <tr>\n",
       "      <th>9</th>\n",
       "      <td>126717966</td>\n",
       "      <td>C1CCC(C1)N2C3=NC=NC(=C3C(=N2)C4=CC=C(C=C4)CNC(...</td>\n",
       "      <td>NaN</td>\n",
       "      <td>5500.0</td>\n",
       "      <td>NaN</td>\n",
       "      <td>ABAPXGKEVNECFX-UHFFFAOYSA-N</td>\n",
       "      <td>inactive</td>\n",
       "    </tr>\n",
       "  </tbody>\n",
       "</table>\n",
       "</div>"
      ],
      "text/plain": [
       "              ID                                             SMILES  \\\n",
       "0       44416433  CN1CC2=CC(=C(C=C2OC3=C1C(=NC=N3)OC4=CC(=CC=C4)...   \n",
       "1       24905296  CCOC1=C(C=C(C=C1)C2=NN(C3=NC=NC(=C23)N)C4CCCC4)OC   \n",
       "2      CHEMBL553         C#Cc1cccc(Nc2ncnc3cc(OCCOC)c(OCCOC)cc23)c1   \n",
       "3   CHEMBL595757             COc1ccccc1C(Cc1coc2nc(N)nc(N)c12)C(C)C   \n",
       "4  CHEMBL3741026  C#Cc1cccc(Nc2ncnc3cc(OCCOC(=O)C(C)c4ccc(CC(C)C...   \n",
       "5  CHEMBL3758758  COC(=O)c1ccc(OC)c(-c2cc3c(N[C@H](C)c4ccccc4)nc...   \n",
       "6   CHEMBL354033                Nc1ncnc2c1c(-c1ccc(O)cc1)cn2C1CCNC1   \n",
       "7       57400361  COC1=C(C=C2C(=C1)C(=C(C=N2)C(=O)O)NC3=CC(=C(C=...   \n",
       "8       46842883    CC1=CC=C(C=C1)C2CC(=NN2C(=S)N)C3=CC(=C(C=C3)C)C   \n",
       "9      126717966  C1CCC(C1)N2C3=NC=NC(=C3C(=N2)C4=CC=C(C=C4)CNC(...   \n",
       "\n",
       "  acqualifier  IC50 value(nM)                             doi  \\\n",
       "0           =          1200.0      10.1016/j.bmcl.2006.07.031   \n",
       "1           =          1400.0            10.1038/nchembio.117   \n",
       "2           =            20.0       10.1016/j.bmc.2009.11.037   \n",
       "3           =         18200.0       10.1016/j.bmc.2009.08.044   \n",
       "4           =             9.0  10.1021/acsmedchemlett.5b00286   \n",
       "5           =             7.0    10.1016/j.ejmech.2015.11.012   \n",
       "6           =          2670.0   10.1016/s0960-894x(01)00080-4   \n",
       "7           =          9284.0    10.1016/j.ejmech.2012.01.021   \n",
       "8           =           340.0       10.1016/j.bmc.2010.05.034   \n",
       "9         NaN          5500.0                             NaN   \n",
       "\n",
       "                      inchikey     Label  \n",
       "0  AABTVDZTFBSBKN-UHFFFAOYSA-N  inactive  \n",
       "1  AAHKGRWRYBCWDL-UHFFFAOYSA-N  inactive  \n",
       "2  AAKJLRGGTJKAMG-UHFFFAOYSA-N    active  \n",
       "3  AALMZTNNZVHOAS-UHFFFAOYSA-N  inactive  \n",
       "4  AALSIMHTWOFTTB-UHFFFAOYSA-N    active  \n",
       "5  AARBVSHAOOSSTN-CQSZACIVSA-N    active  \n",
       "6  AATOPLAJLQECRD-UHFFFAOYSA-N  inactive  \n",
       "7  AAVGHUCVRHUVEM-UHFFFAOYSA-N  inactive  \n",
       "8  AAXJTXUUVCETME-UHFFFAOYSA-N  inactive  \n",
       "9  ABAPXGKEVNECFX-UHFFFAOYSA-N  inactive  "
      ]
     },
     "execution_count": 5,
     "metadata": {},
     "output_type": "execute_result"
    }
   ],
   "source": [
    "df = pd.read_csv('../data/20250905_egfr_train_test_data.csv')\n",
    "df.head(10)"
   ]
  },
  {
   "cell_type": "markdown",
   "id": "8ecec091",
   "metadata": {},
   "source": [
    "* **ID** → A unique identifier for each compound in the dataset (often just a running number or database reference).\n",
    "* **SMILES** → The **Simplified Molecular Input Line Entry System** string, which encodes the molecular structure as text (atoms, bonds, stereochemistry, etc.). Used for computational chemistry and machine learning.\n",
    "* **acqualifier** → Usually describes the **assay qualifier** for the IC50 value. For example:\n",
    "\n",
    "  * `\"=\"` → exact IC50 value\n",
    "  * `\"<\"` or `\">\"` → means the IC50 is below/above the given number (censored data).\n",
    "* **IC50 value (nM)** → The half maximal inhibitory concentration of the compound (nanomolar). Lower IC50 = stronger inhibition against HDAC6.\n",
    "* **doi** → The **Digital Object Identifier** of the publication where this measurement was reported. Lets you trace back to the experimental source.\n",
    "* **inchikey** → A **hashed, fixed-length representation of the InChI** (International Chemical Identifier) of a molecule.\n",
    "\n",
    "  * InChI is a standard textual identifier that encodes a chemical structure.\n",
    "  * InChIKey is a **shortened, fixed 27-character string** (like a fingerprint) that is easy to search in databases.\n",
    "  * Example: Aspirin has InChIKey `BSYNRYMUTXBXSQ-UHFFFAOYSA-N`.\n",
    "  * Purpose: unique, database-searchable ID for a molecule, independent of SMILES formatting.\n",
    "* **Label** → The machine learning target label. In bioactivity datasets, this is often:\n",
    "\n",
    "  * `\"active\"` / `\"inactive\"` based on an IC50 cutoff (e.g., <1000 nM = active, otherwise inactive).\n",
    "  * Or a numeric class depending on how the dataset was curated.\n",
    "\n",
    "\n",
    "### In summary\n",
    "- **ID**: Unique identifier of the compound.\n",
    "- **SMILES**: Text representation of the molecular structure.\n",
    "- **acqualifier**: Assay qualifier indicating whether the IC50 value is exact (=), less than (<), or greater than (>).\n",
    "- **IC50 value (nM)**: The inhibitory concentration at which the compound achieves 50% activity against HDAC6, in nanomolar units.\n",
    "- **doi**: Digital Object Identifier of the publication reporting the measurement.\n",
    "- **inchikey**: Standardized, hashed chemical identifier derived from InChI; provides a unique, fixed-length ID for each molecule.\n",
    "- **Label**: Bioactivity class label (e.g., active/inactive) derived from IC50 thresholds.\n"
   ]
  },
  {
   "cell_type": "code",
   "execution_count": 6,
   "id": "176e1816",
   "metadata": {},
   "outputs": [
    {
     "name": "stdout",
     "output_type": "stream",
     "text": [
      "<class 'pandas.core.frame.DataFrame'>\n",
      "RangeIndex: 5644 entries, 0 to 5643\n",
      "Data columns (total 7 columns):\n",
      " #   Column          Non-Null Count  Dtype  \n",
      "---  ------          --------------  -----  \n",
      " 0   ID              5644 non-null   object \n",
      " 1   SMILES          5644 non-null   object \n",
      " 2   acqualifier     4402 non-null   object \n",
      " 3   IC50 value(nM)  5644 non-null   float64\n",
      " 4   doi             4101 non-null   object \n",
      " 5   inchikey        5644 non-null   object \n",
      " 6   Label           5644 non-null   object \n",
      "dtypes: float64(1), object(6)\n",
      "memory usage: 308.8+ KB\n"
     ]
    }
   ],
   "source": [
    "df.info()"
   ]
  },
  {
   "cell_type": "code",
   "execution_count": 7,
   "id": "68d6a0b3",
   "metadata": {},
   "outputs": [
    {
     "data": {
      "application/vnd.microsoft.datawrangler.viewer.v0+json": {
       "columns": [
        {
         "name": "index",
         "rawType": "object",
         "type": "string"
        },
        {
         "name": "IC50 value(nM)",
         "rawType": "float64",
         "type": "float"
        }
       ],
       "ref": "2918e652-82e3-46ac-b229-0054075d17c3",
       "rows": [
        [
         "count",
         "5644.0"
        ],
        [
         "mean",
         "34999.30350212084"
        ],
        [
         "std",
         "883685.2191605543"
        ],
        [
         "min",
         "0.004"
        ],
        [
         "25%",
         "8.0"
        ],
        [
         "50%",
         "100.0"
        ],
        [
         "75%",
         "1322.5"
        ],
        [
         "max",
         "55000000.0"
        ]
       ],
       "shape": {
        "columns": 1,
        "rows": 8
       }
      },
      "text/html": [
       "<div>\n",
       "<style scoped>\n",
       "    .dataframe tbody tr th:only-of-type {\n",
       "        vertical-align: middle;\n",
       "    }\n",
       "\n",
       "    .dataframe tbody tr th {\n",
       "        vertical-align: top;\n",
       "    }\n",
       "\n",
       "    .dataframe thead th {\n",
       "        text-align: right;\n",
       "    }\n",
       "</style>\n",
       "<table border=\"1\" class=\"dataframe\">\n",
       "  <thead>\n",
       "    <tr style=\"text-align: right;\">\n",
       "      <th></th>\n",
       "      <th>IC50 value(nM)</th>\n",
       "    </tr>\n",
       "  </thead>\n",
       "  <tbody>\n",
       "    <tr>\n",
       "      <th>count</th>\n",
       "      <td>5.644000e+03</td>\n",
       "    </tr>\n",
       "    <tr>\n",
       "      <th>mean</th>\n",
       "      <td>3.499930e+04</td>\n",
       "    </tr>\n",
       "    <tr>\n",
       "      <th>std</th>\n",
       "      <td>8.836852e+05</td>\n",
       "    </tr>\n",
       "    <tr>\n",
       "      <th>min</th>\n",
       "      <td>4.000000e-03</td>\n",
       "    </tr>\n",
       "    <tr>\n",
       "      <th>25%</th>\n",
       "      <td>8.000000e+00</td>\n",
       "    </tr>\n",
       "    <tr>\n",
       "      <th>50%</th>\n",
       "      <td>1.000000e+02</td>\n",
       "    </tr>\n",
       "    <tr>\n",
       "      <th>75%</th>\n",
       "      <td>1.322500e+03</td>\n",
       "    </tr>\n",
       "    <tr>\n",
       "      <th>max</th>\n",
       "      <td>5.500000e+07</td>\n",
       "    </tr>\n",
       "  </tbody>\n",
       "</table>\n",
       "</div>"
      ],
      "text/plain": [
       "       IC50 value(nM)\n",
       "count    5.644000e+03\n",
       "mean     3.499930e+04\n",
       "std      8.836852e+05\n",
       "min      4.000000e-03\n",
       "25%      8.000000e+00\n",
       "50%      1.000000e+02\n",
       "75%      1.322500e+03\n",
       "max      5.500000e+07"
      ]
     },
     "execution_count": 7,
     "metadata": {},
     "output_type": "execute_result"
    }
   ],
   "source": [
    "df.describe()"
   ]
  },
  {
   "cell_type": "markdown",
   "id": "bda49c78",
   "metadata": {},
   "source": [
    "\n",
    "## EDA"
   ]
  },
  {
   "cell_type": "code",
   "execution_count": 40,
   "id": "2cc9ab5a",
   "metadata": {},
   "outputs": [
    {
     "data": {
      "image/png": "[encoded data removed]",
      "text/plain": [
       "<Figure size 600x600 with 1 Axes>"
      ]
     },
     "metadata": {},
     "output_type": "display_data"
    }
   ],
   "source": [
    "# Count active/inactive compounds\n",
    "plt.figure(figsize=(6, 6))\n",
    "sns.countplot(x='Label', data=df, palette='Set1', hue='Label')\n",
    "plt.title('Count of Active vs Inactive Compounds')\n",
    "plt.xlabel('Activity')\n",
    "plt.ylabel('Count')\n",
    "plt.savefig('res/active_inactive_count.png')\n",
    "plt.show()"
   ]
  },
  {
   "cell_type": "code",
   "execution_count": 39,
   "id": "e8c58e2a",
   "metadata": {},
   "outputs": [
    {
     "data": {
      "image/png": "[encoded data removed]",
      "text/plain": [
       "<Figure size 600x600 with 1 Axes>"
      ]
     },
     "metadata": {},
     "output_type": "display_data"
    }
   ],
   "source": [
    "# Count acqualifier\n",
    "plt.figure(figsize=(6, 6))\n",
    "sns.countplot(x='acqualifier', data=df, palette='Set1', hue='acqualifier')\n",
    "plt.title('Count of acqualifier Values')\n",
    "plt.xlabel('acqualifier')   \n",
    "plt.ylabel('Count')\n",
    "plt.savefig('res/acqualifier_count.png')\n",
    "plt.show()"
   ]
  },
  {
   "cell_type": "code",
   "execution_count": 38,
   "id": "bd2eebb7",
   "metadata": {},
   "outputs": [
    {
     "data": {
      "image/png": "[encoded data removed]",
      "text/plain": [
       "<Figure size 600x600 with 1 Axes>"
      ]
     },
     "metadata": {},
     "output_type": "display_data"
    }
   ],
   "source": [
    "# Define activity level categories based on IC50 (nM)\n",
    "def categorize_activity(ic50):\n",
    "    if ic50 < 100:\n",
    "        return \"Strong (active)\"\n",
    "    elif 100 <= ic50 <= 1000:\n",
    "        return \"Medium (moderately active)\"\n",
    "    else:\n",
    "        return \"Weak (inactive)\"\n",
    "\n",
    "df['Activity_Level'] = df['IC50 value(nM)'].apply(categorize_activity)\n",
    "\n",
    "# Plot distribution of activity levels\n",
    "plt.figure(figsize=(6, 6))\n",
    "sns.countplot(x='Activity_Level', data=df, palette='Set1', hue='acqualifier')\n",
    "plt.title('Compound Counts by Activity Level')\n",
    "plt.xlabel('Activity Level')\n",
    "plt.ylabel('Count')\n",
    "plt.savefig('res/activity_level_count.png')\n",
    "plt.show()\n"
   ]
  },
  {
   "cell_type": "code",
   "execution_count": null,
   "id": "bea8605f",
   "metadata": {},
   "outputs": [],
   "source": []
  }
 ],
 "metadata": {
  "kernelspec": {
   "display_name": "mylab-hdac6",
   "language": "python",
   "name": "python3"
  },
  "language_info": {
   "codemirror_mode": {
    "name": "ipython",
    "version": 3
   },
   "file_extension": ".py",
   "mimetype": "text/x-python",
   "name": "python",
   "nbconvert_exporter": "python",
   "pygments_lexer": "ipython3",
   "version": "3.10.18"
  }
 },
 "nbformat": 4,
 "nbformat_minor": 5
}
